{
  "nbformat": 4,
  "nbformat_minor": 0,
  "metadata": {
    "kernelspec": {
      "display_name": "pytorch",
      "language": "python",
      "name": "pytorch"
    },
    "language_info": {
      "codemirror_mode": {
        "name": "ipython",
        "version": 3
      },
      "file_extension": ".py",
      "mimetype": "text/x-python",
      "name": "python",
      "nbconvert_exporter": "python",
      "pygments_lexer": "ipython3",
      "version": "3.6.9"
    },
    "colab": {
      "provenance": [],
      "collapsed_sections": [],
      "include_colab_link": true
    },
    "accelerator": "GPU"
  },
  "cells": [
    {
      "cell_type": "markdown",
      "metadata": {
        "id": "view-in-github",
        "colab_type": "text"
      },
      "source": [
        "<a href=\"https://colab.research.google.com/github/dlrhksghdaf/coding_test_ex/blob/main/FordA_Resnet_solution.ipynb\" target=\"_parent\"><img src=\"https://colab.research.google.com/assets/colab-badge.svg\" alt=\"Open In Colab\"/></a>"
      ]
    },
    {
      "cell_type": "code",
      "metadata": {
        "scrolled": true,
        "id": "-jZ_VqY0MYEE"
      },
      "source": [
        "import pickle\n",
        "import torch \n",
        "import torch.nn as nn\n",
        "import torch.nn.functional as F\n",
        "\n",
        "import numpy as np\n",
        "import matplotlib.pyplot as plt\n",
        "\n",
        "from torch.utils.data import Dataset, DataLoader\n",
        "from sklearn.preprocessing import StandardScaler\n",
        "from sklearn.model_selection import train_test_split"
      ],
      "execution_count": null,
      "outputs": []
    },
    {
      "cell_type": "code",
      "metadata": {
        "colab": {
          "base_uri": "https://localhost:8080/",
          "height": 451
        },
        "id": "B4_nk2-zMYEF",
        "outputId": "a1550c89-e572-43c6-bf47-dab78fa4dcd2"
      },
      "source": [
        "from google.colab import drive\n",
        "drive.mount('/content/drive')\n",
        "\n",
        "dir = '/content/drive/My Drive/Colab Notebooks/'\n",
        "with open(dir+'FordA_TRAIN_x.pickle', 'rb') as f:\n",
        "    X = pickle.load(f) \n",
        "with open(dir+'FordA_TRAIN_y.pickle', 'rb') as f:\n",
        "    y = pickle.load(f) \n",
        "with open(dir+'FordA_TEST_x.pickle', 'rb') as f:\n",
        "    X_test = pickle.load(f) "
      ],
      "execution_count": null,
      "outputs": [
        {
          "output_type": "stream",
          "text": [
            "Go to this URL in a browser: https://accounts.google.com/o/oauth2/auth?client_id=947318989803-6bn6qk8qdgf4n4g3pfee6491hc0brc4i.apps.googleusercontent.com&redirect_uri=urn%3aietf%3awg%3aoauth%3a2.0%3aoob&scope=email%20https%3a%2f%2fwww.googleapis.com%2fauth%2fdocs.test%20https%3a%2f%2fwww.googleapis.com%2fauth%2fdrive%20https%3a%2f%2fwww.googleapis.com%2fauth%2fdrive.photos.readonly%20https%3a%2f%2fwww.googleapis.com%2fauth%2fpeopleapi.readonly%20https%3a%2f%2fwww.googleapis.com%2fauth%2fdrive.activity.readonly%20https%3a%2f%2fwww.googleapis.com%2fauth%2fexperimentsandconfigs%20https%3a%2f%2fwww.googleapis.com%2fauth%2fphotos.native&response_type=code\n",
            "\n",
            "Enter your authorization code:\n",
            "q\n"
          ],
          "name": "stdout"
        },
        {
          "output_type": "error",
          "ename": "ValueError",
          "evalue": "ignored",
          "traceback": [
            "\u001b[0;31m---------------------------------------------------------------------------\u001b[0m",
            "\u001b[0;31mValueError\u001b[0m                                Traceback (most recent call last)",
            "\u001b[0;32m<ipython-input-2-0d2662cf72ef>\u001b[0m in \u001b[0;36m<module>\u001b[0;34m()\u001b[0m\n\u001b[1;32m      1\u001b[0m \u001b[0;32mfrom\u001b[0m \u001b[0mgoogle\u001b[0m\u001b[0;34m.\u001b[0m\u001b[0mcolab\u001b[0m \u001b[0;32mimport\u001b[0m \u001b[0mdrive\u001b[0m\u001b[0;34m\u001b[0m\u001b[0;34m\u001b[0m\u001b[0m\n\u001b[0;32m----> 2\u001b[0;31m \u001b[0mdrive\u001b[0m\u001b[0;34m.\u001b[0m\u001b[0mmount\u001b[0m\u001b[0;34m(\u001b[0m\u001b[0;34m'/content/drive'\u001b[0m\u001b[0;34m)\u001b[0m\u001b[0;34m\u001b[0m\u001b[0;34m\u001b[0m\u001b[0m\n\u001b[0m\u001b[1;32m      3\u001b[0m \u001b[0;34m\u001b[0m\u001b[0m\n\u001b[1;32m      4\u001b[0m \u001b[0mdir\u001b[0m \u001b[0;34m=\u001b[0m \u001b[0;34m'/content/drive/My Drive/Colab Notebooks/'\u001b[0m\u001b[0;34m\u001b[0m\u001b[0;34m\u001b[0m\u001b[0m\n\u001b[1;32m      5\u001b[0m \u001b[0;32mwith\u001b[0m \u001b[0mopen\u001b[0m\u001b[0;34m(\u001b[0m\u001b[0mdir\u001b[0m\u001b[0;34m+\u001b[0m\u001b[0;34m'FordA_TRAIN_x.pickle'\u001b[0m\u001b[0;34m,\u001b[0m \u001b[0;34m'rb'\u001b[0m\u001b[0;34m)\u001b[0m \u001b[0;32mas\u001b[0m \u001b[0mf\u001b[0m\u001b[0;34m:\u001b[0m\u001b[0;34m\u001b[0m\u001b[0;34m\u001b[0m\u001b[0m\n",
            "\u001b[0;32m/usr/local/lib/python3.7/dist-packages/google/colab/drive.py\u001b[0m in \u001b[0;36mmount\u001b[0;34m(mountpoint, force_remount, timeout_ms, use_metadata_server)\u001b[0m\n\u001b[1;32m    261\u001b[0m       \u001b[0mwrote_to_fifo\u001b[0m \u001b[0;34m=\u001b[0m \u001b[0;32mTrue\u001b[0m\u001b[0;34m\u001b[0m\u001b[0;34m\u001b[0m\u001b[0m\n\u001b[1;32m    262\u001b[0m     \u001b[0;32melif\u001b[0m \u001b[0mcase\u001b[0m \u001b[0;34m==\u001b[0m \u001b[0;36m5\u001b[0m\u001b[0;34m:\u001b[0m\u001b[0;34m\u001b[0m\u001b[0;34m\u001b[0m\u001b[0m\n\u001b[0;32m--> 263\u001b[0;31m       \u001b[0;32mraise\u001b[0m \u001b[0mValueError\u001b[0m\u001b[0;34m(\u001b[0m\u001b[0;34m'mount failed: invalid oauth code'\u001b[0m\u001b[0;34m)\u001b[0m\u001b[0;34m\u001b[0m\u001b[0;34m\u001b[0m\u001b[0m\n\u001b[0m\u001b[1;32m    264\u001b[0m     \u001b[0;32melif\u001b[0m \u001b[0mcase\u001b[0m \u001b[0;34m==\u001b[0m \u001b[0;36m6\u001b[0m\u001b[0;34m:\u001b[0m\u001b[0;34m\u001b[0m\u001b[0;34m\u001b[0m\u001b[0m\n\u001b[1;32m    265\u001b[0m       \u001b[0;31m# Terminate the DriveFS binary before killing bash.\u001b[0m\u001b[0;34m\u001b[0m\u001b[0;34m\u001b[0m\u001b[0;34m\u001b[0m\u001b[0m\n",
            "\u001b[0;31mValueError\u001b[0m: mount failed: invalid oauth code"
          ]
        }
      ]
    },
    {
      "cell_type": "code",
      "metadata": {
        "id": "Ht_Q0ZDRMYEF"
      },
      "source": [
        "X_train, X_val, y_train, y_val = train_test_split(X, y, test_size = 0.2, shuffle=True)"
      ],
      "execution_count": null,
      "outputs": []
    },
    {
      "cell_type": "code",
      "metadata": {
        "scrolled": true,
        "id": "LQkC0iQAMYEF"
      },
      "source": [
        "for i in range(13):\n",
        "    output = X_train[:,:,:]\n",
        "    plt.plot(range(output.shape[1]), output[i]);plt.show()"
      ],
      "execution_count": null,
      "outputs": []
    },
    {
      "cell_type": "code",
      "metadata": {
        "id": "R1Ae6pxmMYEG"
      },
      "source": [
        "class TSDataset(Dataset):\n",
        "    def __init__(self, X, y=None):\n",
        "        _, n_length, n_dim = X.shape\n",
        "        X_reshape = X.reshape(-1, n_dim)\n",
        "        scaler = StandardScaler()\n",
        "        X_reshape = scaler.fit_transform(X_reshape)\n",
        "        X_reshape = X_reshape.reshape(-1, n_length, n_dim)\n",
        "        X = X_reshape\n",
        "        \n",
        "        self.x = torch.from_numpy(X)        \n",
        "        if y is None:\n",
        "            self.y = torch.zeros(len(self.x))\n",
        "        else:\n",
        "            self.y = torch.from_numpy(y)\n",
        "    \n",
        "    def __getitem__(self, index):\n",
        "        return self.x[index], self.y[index]\n",
        "    \n",
        "    def __len__(self):\n",
        "        return self.x.shape[0]"
      ],
      "execution_count": null,
      "outputs": []
    },
    {
      "cell_type": "code",
      "metadata": {
        "id": "lBA6qZq7MYEG"
      },
      "source": [
        "# Hyper-parameters\n",
        "hidden_size = 50\n",
        "num_layers = 8\n",
        "batch_size = 100\n",
        "n_epochs = 100\n",
        "learning_rate = 0.001"
      ],
      "execution_count": null,
      "outputs": []
    },
    {
      "cell_type": "code",
      "metadata": {
        "id": "IOzykm00MYEG"
      },
      "source": [
        "train_loader = torch.utils.data.DataLoader(dataset=TSDataset(X_train, y_train),\n",
        "                                           batch_size=batch_size,\n",
        "                                           shuffle=True)\n",
        "val_loader = torch.utils.data.DataLoader(dataset=TSDataset(X_val, y_val),\n",
        "                                           batch_size=batch_size,\n",
        "                                           shuffle=False)\n",
        "test_loader = torch.utils.data.DataLoader(dataset=TSDataset(X_test),\n",
        "                                           batch_size=batch_size,\n",
        "                                           shuffle=False)\n",
        "_, n_length, n_dim = X_train.shape\n",
        "n_classes = len(set(y_train))"
      ],
      "execution_count": null,
      "outputs": []
    },
    {
      "cell_type": "code",
      "metadata": {
        "id": "e67b8a1jMYEH"
      },
      "source": [
        "device = torch.device('cuda' if torch.cuda.is_available() else 'cpu')"
      ],
      "execution_count": null,
      "outputs": []
    },
    {
      "cell_type": "markdown",
      "metadata": {
        "id": "V471mFC1LlUK"
      },
      "source": []
    },
    {
      "cell_type": "code",
      "metadata": {
        "id": "oz6Ba-UsMYEH"
      },
      "source": [
        "class FC(nn.Module):\n",
        "    def __init__(self, input_size, hidden_size, input_length, num_classes):\n",
        "        super(FC, self).__init__()\n",
        "        \n",
        "        self.fc1 = nn.Linear(input_size*input_length, hidden_size)\n",
        "        self.fc2 = nn.Linear(hidden_size, hidden_size)\n",
        "        self.fc3 = nn.Linear(hidden_size, num_classes)\n",
        "            \n",
        "    def forward(self, x):        \n",
        "        z = self.fc1(x.view(x.shape[0],-1))\n",
        "        z = F.relu(z)\n",
        "        z = self.fc2(z)\n",
        "        z = F.relu(z)\n",
        "        out = self.fc3(z)\n",
        "                \n",
        "        return out"
      ],
      "execution_count": null,
      "outputs": []
    },
    {
      "cell_type": "code",
      "metadata": {
        "id": "gEtruQ5_MYEH"
      },
      "source": [
        "class RNN(nn.Module):\n",
        "    def __init__(self, input_size, hidden_size, num_layers, num_classes):\n",
        "        super(RNN, self).__init__()\n",
        "        self.hidden_size = hidden_size\n",
        "        self.num_layers = num_layers\n",
        "        \n",
        "        self.rnn = nn.LSTM(input_size, hidden_size, num_layers, batch_first=True)\n",
        "        self.fc = nn.Linear(hidden_size, hidden_size)\n",
        "        self.fc2 = nn.Linear(hidden_size, num_classes)\n",
        "    \n",
        "    def forward(self, x):        \n",
        "        # RNN\n",
        "        z, _ = self.rnn(x)\n",
        "        \n",
        "        # Fully connected\n",
        "        out = self.fc(z[:, -1, :])\n",
        "        out = F.relu(out)\n",
        "        out = self.fc2(out)\n",
        "        \n",
        "        return out"
      ],
      "execution_count": null,
      "outputs": []
    },
    {
      "cell_type": "code",
      "metadata": {
        "id": "U4myFgIjMYEH"
      },
      "source": [
        "def get_padding(kernel_size):\n",
        "    #for zero padding    \n",
        "    #even\n",
        "    if (kernel_size % 2) == 0:\n",
        "        left_padding = kernel_size//2\n",
        "        right_padding = kernel_size//2 - 1\n",
        "    #odd\n",
        "    else:\n",
        "        left_padding = kernel_size//2\n",
        "        right_padding = kernel_size//2\n",
        "        \n",
        "    return left_padding, right_padding\n",
        "\n",
        "\n",
        "class ResidualBlock(nn.Module):\n",
        "    def __init__(self, input_size, hidden_size):\n",
        "        super(ResidualBlock, self).__init__()\n",
        "                \n",
        "        left_padding, right_padding = get_padding(kernel_size=8)\n",
        "        self.pad1 = nn.ConstantPad1d((left_padding, right_padding), 0)\n",
        "        self.conv1 = nn.Conv1d(input_size, hidden_size, kernel_size=8)\n",
        "        self.bn1 = nn.BatchNorm1d(hidden_size)\n",
        "        self.relu1 = nn.ReLU()\n",
        "        \n",
        "        left_padding, right_padding = get_padding(kernel_size=5)\n",
        "        self.pad2 = nn.ConstantPad1d((left_padding, right_padding), 0)\n",
        "        self.conv2 = nn.Conv1d(hidden_size, hidden_size, kernel_size=5)\n",
        "        self.bn2 = nn.BatchNorm1d(hidden_size)\n",
        "        self.relu2 = nn.ReLU()\n",
        "        \n",
        "        left_padding, right_padding = get_padding(kernel_size=3)\n",
        "        self.pad3 = nn.ConstantPad1d((left_padding, right_padding), 0)\n",
        "        self.conv3 = nn.Conv1d(hidden_size, hidden_size, kernel_size=3)\n",
        "        self.bn3 = nn.BatchNorm1d(hidden_size)\n",
        "                \n",
        "        self.conv1x1 = nn.Conv1d(input_size, hidden_size, kernel_size=1)\n",
        "        self.relu3 = nn.ReLU()\n",
        "        \n",
        "\n",
        "    def forward(self, x):\n",
        "        \n",
        "        z = self.pad1(x)        \n",
        "        z = self.conv1(z)\n",
        "        z = self.bn1(z)\n",
        "        z = self.relu1(z)\n",
        "        \n",
        "        z = self.pad2(z)\n",
        "        z = self.conv2(z)\n",
        "        z = self.bn2(z)\n",
        "        z = self.relu2(z)\n",
        "        \n",
        "        z = self.pad3(z)\n",
        "        z = self.conv3(z)\n",
        "        z = self.bn3(z)\n",
        "        \n",
        "        z = z + self.conv1x1(x)\n",
        "        z = self.relu3(z)\n",
        "        \n",
        "        return z\n",
        "\n",
        "\n",
        "class ResNet(nn.Module):\n",
        "    def __init__(self, input_size, output_size, input_length):\n",
        "        super(ResNet, self).__init__()\n",
        "        \n",
        "        # residual blocks\n",
        "        self.residual_blocks = nn.ModuleList()\n",
        "        \n",
        "        residual_block = ResidualBlock(input_size=1, hidden_size=64)\n",
        "        self.residual_blocks.append(residual_block)\n",
        "        \n",
        "        residual_block = ResidualBlock(input_size=64, hidden_size=128)\n",
        "        self.residual_blocks.append(residual_block)\n",
        "        \n",
        "        residual_block = ResidualBlock(input_size=128, hidden_size=128)\n",
        "        self.residual_blocks.append(residual_block)\n",
        "        \n",
        "        # pooling layer\n",
        "        self.avg_pooling = nn.AvgPool1d(input_length)\n",
        "        \n",
        "        # for softmax\n",
        "        self.linear = nn.Linear(in_features=128, out_features=output_size)\n",
        "        \n",
        "        self.dropout = nn.Dropout()\n",
        "        \n",
        "    def forward(self, x):\n",
        "                    \n",
        "        # (batch, length, dim) -> (batch, dim, length)\n",
        "        z = x.transpose(1,2)\n",
        "        \n",
        "        # resudial blocks\n",
        "        for residual_block in self.residual_blocks:\n",
        "            z = residual_block(z)\n",
        "            \n",
        "        # GAP, (batch, dim, length) -> (batch, dim)\n",
        "        z = self.avg_pooling(z)        \n",
        "        z = z.squeeze(2)\n",
        "        \n",
        "        # logit\n",
        "        #z = self.dropout(z)        \n",
        "        outputs = self.linear(z)\n",
        "                \n",
        "        return outputs"
      ],
      "execution_count": null,
      "outputs": []
    },
    {
      "cell_type": "code",
      "metadata": {
        "id": "dx-tZzAQMYEH"
      },
      "source": [
        "class ConvBlock_NotPadding(nn.Module):\n",
        "    def __init__(self, input_size, hidden_size):\n",
        "        super(ConvBlock_NotPadding, self).__init__()\n",
        "                \n",
        "        self.conv1 = nn.Conv1d(input_size, hidden_size, kernel_size=8, stride=2)\n",
        "        self.bn1 = nn.BatchNorm1d(hidden_size)\n",
        "        self.relu1 = nn.ReLU()\n",
        "        \n",
        "        self.conv2 = nn.Conv1d(hidden_size, hidden_size, kernel_size=5)\n",
        "        self.bn2 = nn.BatchNorm1d(hidden_size)\n",
        "        self.relu2 = nn.ReLU()\n",
        "        \n",
        "        self.conv3 = nn.Conv1d(hidden_size, hidden_size, kernel_size=3)\n",
        "        self.bn3 = nn.BatchNorm1d(hidden_size)\n",
        "        self.relu3 = nn.ReLU()\n",
        "        \n",
        "\n",
        "    def forward(self, x):\n",
        "        \n",
        "        z = self.conv1(x)\n",
        "        z = self.bn1(z)\n",
        "        z = self.relu1(z)\n",
        "        \n",
        "        z = self.conv2(z)\n",
        "        z = self.bn2(z)\n",
        "        z = self.relu2(z)\n",
        "        \n",
        "        z = self.conv3(z)\n",
        "        z = self.bn3(z)        \n",
        "        z = self.relu3(z)\n",
        "        \n",
        "        return z\n",
        "\n",
        "\n",
        "class Conv_LSTM(nn.Module):\n",
        "    def __init__(self, input_size, output_size):\n",
        "        super(Conv_LSTM, self).__init__()\n",
        "        \n",
        "        # residual blocks\n",
        "        self.conv_blocks = nn.ModuleList()\n",
        "        \n",
        "        conv_block = ConvBlock_NotPadding(input_size=1, hidden_size=64)\n",
        "        self.conv_blocks.append(conv_block)\n",
        "        \n",
        "        conv_block = ConvBlock_NotPadding(input_size=64, hidden_size=128)\n",
        "        self.conv_blocks.append(conv_block)\n",
        "        \n",
        "        conv_block = ConvBlock_NotPadding(input_size=128, hidden_size=128)\n",
        "        self.conv_blocks.append(conv_block)\n",
        "                \n",
        "        self.rnn = nn.LSTM(128, 32, 2, batch_first=True, dropout=0.2)\n",
        "        self.fc = nn.Linear(32, 32)\n",
        "        self.fc2 = nn.Linear(32, output_size)\n",
        "                \n",
        "    def forward(self, x):\n",
        "                    \n",
        "        # (batch, length, dim) -> (batch, dim, length)\n",
        "        z = x.transpose(1,2)\n",
        "        \n",
        "        # conv_block\n",
        "        for conv_block in self.conv_blocks:\n",
        "            z = conv_block(z)\n",
        "        print(z.size())\n",
        "        \n",
        "        # RNN\n",
        "        # (batch, dim, length) -> (batch, length, dim)\n",
        "        z = z.transpose(1,2)        \n",
        "        z, _ = self.rnn(z)\n",
        "        \n",
        "        # Fully connected\n",
        "        outputs = self.fc(z[:, -1, :])\n",
        "        outputs = F.relu(outputs)\n",
        "        outputs = self.fc2(outputs)\n",
        "                        \n",
        "        return outputs"
      ],
      "execution_count": null,
      "outputs": []
    },
    {
      "cell_type": "code",
      "metadata": {
        "id": "mRd9w4KoMYEH"
      },
      "source": [
        "sequence_length = n_length\n",
        "input_size = n_dim\n",
        "num_classes = n_classes\n",
        "\n",
        "model = RNN(input_size, hidden_size, num_layers, num_classes).to(device)\n",
        "#model = FC(input_size, hidden_size, sequence_length, num_classes).to(device)\n",
        "#model = ResNet(input_size, num_classes, sequence_length).to(device)\n",
        "#model = Conv_LSTM(input_size, num_classes).to(device)\n",
        "\n",
        "criterion = nn.CrossEntropyLoss().to(device)\n",
        "optimizer = torch.optim.Adam(model.parameters(), lr=learning_rate)"
      ],
      "execution_count": null,
      "outputs": []
    },
    {
      "cell_type": "code",
      "metadata": {
        "scrolled": false,
        "id": "9sJtOQP5MYEH"
      },
      "source": [
        "for epoch in range(n_epochs):\n",
        "    model.train()\n",
        "    correct = 0\n",
        "    total = 0\n",
        "    for i, (X, y) in enumerate(train_loader):\n",
        "        X = X.to(device).float()\n",
        "        y = y.to(device).long()\n",
        "\n",
        "        # Forward pass\n",
        "        y_pred = model(X)\n",
        "        loss = criterion(y_pred, y)\n",
        "            \n",
        "        # Backward and optimize\n",
        "        optimizer.zero_grad()\n",
        "        loss.backward()\n",
        "        optimizer.step()\n",
        "        \n",
        "        with torch.no_grad():\n",
        "            correct += (y_pred.max(dim=1)[1]==y).float().sum()\n",
        "            total += len(y_pred)  \n",
        "    print ('Epoch [{}/{}], Loss: {:.4f}'.format(epoch+1, n_epochs, loss.item()))     \n",
        "    print ('Epoch [{}/{}], Accuracy: {:.4f}'.format(epoch+1, n_epochs, correct/total))     \n",
        "\n",
        "    model.eval()\n",
        "    with torch.no_grad():\n",
        "        correct = 0\n",
        "        total = 0\n",
        "        for i, (X, y) in enumerate(val_loader):\n",
        "            X = X.to(device).float()\n",
        "            y = y.to(device).long()\n",
        "\n",
        "            # Forward pass\n",
        "            y_pred = model(X)\n",
        "\n",
        "            correct += (y_pred.max(dim=1)[1]==y).float().sum()\n",
        "            total += len(y_pred)  \n",
        "        print ('Epoch [{}/{}], Accuracy: {:.4f}'.format(epoch+1, n_epochs, correct/total))              "
      ],
      "execution_count": null,
      "outputs": []
    },
    {
      "cell_type": "code",
      "metadata": {
        "id": "qbeB5WYDMYEI"
      },
      "source": [
        "ans = []\n",
        "model.eval()\n",
        "with torch.no_grad():\n",
        "    correct = 0\n",
        "    total = 0\n",
        "    for i, (X, y) in enumerate(test_loader):\n",
        "        X = X.to(device).float()\n",
        "\n",
        "        # Forward pass\n",
        "        y_pred = model(X)\n",
        "        ans.append(y_pred) "
      ],
      "execution_count": null,
      "outputs": []
    },
    {
      "cell_type": "code",
      "metadata": {
        "id": "u9Yy2I9SMYEI"
      },
      "source": [
        "ans2 = torch.cat(ans,dim=0)"
      ],
      "execution_count": null,
      "outputs": []
    },
    {
      "cell_type": "code",
      "metadata": {
        "id": "Q6aLtQ55MYEI"
      },
      "source": [
        "y = ans2.max(dim=1)[1]"
      ],
      "execution_count": null,
      "outputs": []
    },
    {
      "cell_type": "code",
      "metadata": {
        "id": "_qO-8_lGMYEI"
      },
      "source": [
        "y = y.detach().cpu().numpy()"
      ],
      "execution_count": null,
      "outputs": []
    },
    {
      "cell_type": "code",
      "metadata": {
        "id": "RM9OlVTuMYEI"
      },
      "source": [
        "import pandas as pd \n",
        "pd.DataFrame(y,columns =['Category']).to_csv(\"sample.csv\",index_label='Id')"
      ],
      "execution_count": null,
      "outputs": []
    },
    {
      "cell_type": "code",
      "metadata": {
        "id": "ORjQ8ADDMYEI"
      },
      "source": [],
      "execution_count": null,
      "outputs": []
    },
    {
      "cell_type": "code",
      "metadata": {
        "id": "9-SNzJnDMYEI"
      },
      "source": [],
      "execution_count": null,
      "outputs": []
    },
    {
      "cell_type": "code",
      "metadata": {
        "id": "g9aeCR6kMYEI"
      },
      "source": [],
      "execution_count": null,
      "outputs": []
    },
    {
      "cell_type": "code",
      "metadata": {
        "id": "qGotWHsSMYEI"
      },
      "source": [],
      "execution_count": null,
      "outputs": []
    },
    {
      "cell_type": "code",
      "metadata": {
        "id": "mM6zZMI9MYEI"
      },
      "source": [],
      "execution_count": null,
      "outputs": []
    },
    {
      "cell_type": "code",
      "metadata": {
        "id": "J6OznmseMYEI"
      },
      "source": [],
      "execution_count": null,
      "outputs": []
    }
  ]
}